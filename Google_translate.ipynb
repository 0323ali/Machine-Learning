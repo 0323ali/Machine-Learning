{
  "cells": [
    {
      "cell_type": "markdown",
      "metadata": {
        "id": "view-in-github",
        "colab_type": "text"
      },
      "source": [
        "<a href=\"https://colab.research.google.com/github/0323ali/Machine-Learning/blob/main/Google_translate.ipynb\" target=\"_parent\"><img src=\"https://colab.research.google.com/assets/colab-badge.svg\" alt=\"Open In Colab\"/></a>"
      ]
    },
    {
      "cell_type": "code",
      "execution_count": 7,
      "metadata": {
        "id": "Hze_EnDvnZ8n",
        "colab": {
          "base_uri": "https://localhost:8080/"
        },
        "outputId": "2c8865bc-d4a0-4d2a-8dbf-32151c002671"
      },
      "outputs": [
        {
          "output_type": "stream",
          "name": "stdout",
          "text": [
            "Enter text in english to translate in urdu: My name is Moazzam Ali \n",
            "Original: My name is Moazzam Ali \n",
            "Translated: میرا نام موزم علی ہے\n"
          ]
        }
      ],
      "source": [
        "from googletrans import Translator\n",
        "\n",
        "def translate_text(text, dest_language):\n",
        "    translator = Translator()\n",
        "    translated = translator.translate(text, dest=dest_language)\n",
        "    return translated.text\n",
        "\n",
        "text=str(input(\"Enter text in english to translate in urdu: \"))\n",
        "original_text = text\n",
        "destination_language = 'ur'\n",
        "translated_text = translate_text(original_text, destination_language)\n",
        "print(f\"Original: {original_text}\")\n",
        "print(f\"Translated: {translated_text}\")\n"
      ]
    }
  ],
  "metadata": {
    "accelerator": "GPU",
    "colab": {
      "gpuType": "T4",
      "provenance": [],
      "mount_file_id": "1MpTk-4OD6ExDNp-7MNbWBfCMintF33R4",
      "authorship_tag": "ABX9TyNknlZWf8HEE7h1R2FmEblu",
      "include_colab_link": true
    },
    "kernelspec": {
      "display_name": "Python 3",
      "name": "python3"
    },
    "language_info": {
      "name": "python"
    }
  },
  "nbformat": 4,
  "nbformat_minor": 0
}