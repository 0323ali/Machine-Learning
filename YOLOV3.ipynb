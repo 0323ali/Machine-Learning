{
  "cells": [
    {
      "cell_type": "markdown",
      "metadata": {
        "id": "view-in-github",
        "colab_type": "text"
      },
      "source": [
        "<a href=\"https://colab.research.google.com/github/0323ali/Machine-Learning/blob/main/YOLOV3.ipynb\" target=\"_parent\"><img src=\"https://colab.research.google.com/assets/colab-badge.svg\" alt=\"Open In Colab\"/></a>"
      ]
    },
    {
      "cell_type": "code",
      "source": [
        "import cv2\n",
        "import numpy as np\n",
        "\n",
        "# Load YOLOv3\n",
        "weights_path = \"C:\\\\Users\\\\Ali\\\\Downloads\\\\yolov3.weights\"\n",
        "config_path = \"C:\\\\Users\\\\Ali\\\\Downloads\\\\yolov3.cfg\"\n",
        "names_path = \"C:\\\\Users\\\\Ali\\\\Downloads\\\\coco.names\"\n",
        "\n",
        "with open(names_path, \"r\") as f:\n",
        "    classes = f.read().strip().split(\"\\n\")\n",
        "\n",
        "net = cv2.dnn.readNetFromDarknet(config_path, weights_path)\n",
        "net.setPreferableBackend(cv2.dnn.DNN_BACKEND_OPENCV)\n",
        "net.setPreferableTarget(cv2.dnn.DNN_TARGET_CPU)\n",
        "\n",
        "def draw_boxes(frame, outs, width, height):\n",
        "    boxes = []\n",
        "    confidences = []\n",
        "    class_ids = []\n",
        "\n",
        "    for out in outs:\n",
        "        for detection in out:\n",
        "            scores = detection[5:]\n",
        "            class_id = np.argmax(scores)\n",
        "            confidence = scores[class_id]\n",
        "\n",
        "            if confidence > 0.5:\n",
        "                center_x = int(detection[0] * width)\n",
        "                center_y = int(detection[1] * height)\n",
        "                w = int(detection[2] * width)\n",
        "                h = int(detection[3] * height)\n",
        "\n",
        "                x = int(center_x - w / 2)\n",
        "                y = int(center_y - h / 2)\n",
        "\n",
        "                boxes.append([x, y, w, h])\n",
        "                confidences.append(float(confidence))\n",
        "                class_ids.append(class_id)\n",
        "\n",
        "    indices = cv2.dnn.NMSBoxes(boxes, confidences, 0.5, 0.4)\n",
        "\n",
        "    if len(indices) > 0:\n",
        "        for i in indices.flatten():\n",
        "            x, y, w, h = boxes[i]\n",
        "            label = str(classes[class_ids[i]])\n",
        "            confidence = confidences[i]\n",
        "            color = (0, 255, 0)\n",
        "\n",
        "            cv2.rectangle(frame, (x, y), (x + w, y + h), color, 2)\n",
        "            cv2.putText(frame, f\"{label} {confidence:.2f}\", (x, y - 10), cv2.FONT_HERSHEY_SIMPLEX, 0.5, color, 2)\n",
        "\n",
        "cap = cv2.VideoCapture(0)\n",
        "\n",
        "cap.set(cv2.CAP_PROP_FRAME_WIDTH, 640)\n",
        "cap.set(cv2.CAP_PROP_FRAME_HEIGHT, 480)\n",
        "\n",
        "while True:\n",
        "    ret, frame = cap.read()\n",
        "    if not ret:\n",
        "        break\n",
        "\n",
        "    height, width = frame.shape[:2]\n",
        "\n",
        "    blob = cv2.dnn.blobFromImage(frame, 1 / 255.0, (416, 416), swapRB=True, crop=False)\n",
        "    net.setInput(blob)\n",
        "\n",
        "    layer_names = net.getLayerNames()\n",
        "\n",
        "    unconnected_out_layers = net.getUnconnectedOutLayers()\n",
        "    if isinstance(unconnected_out_layers, np.ndarray):\n",
        "        output_layers = [layer_names[i - 1] for i in unconnected_out_layers.flatten()]\n",
        "    else:\n",
        "        output_layers = [layer_names[unconnected_out_layers - 1]]\n",
        "\n",
        "    outs = net.forward(output_layers)\n",
        "    draw_boxes(frame, outs, width, height)\n",
        "\n",
        "    cv2.imshow(\"YOLO Object Detection\", frame)\n",
        "\n",
        "    if cv2.waitKey(1) & 0xFF == ord(\"q\"):\n",
        "        break\n",
        "\n",
        "cap.release()\n",
        "cv2.destroyAllWindows()\n"
      ],
      "metadata": {
        "id": "V5wPRcReHI9B"
      },
      "execution_count": null,
      "outputs": []
    }
  ],
  "metadata": {
    "accelerator": "GPU",
    "colab": {
      "gpuType": "T4",
      "provenance": [],
      "mount_file_id": "1MpTk-4OD6ExDNp-7MNbWBfCMintF33R4",
      "authorship_tag": "ABX9TyPAu0ekW3PBID1z4CQX3z1h",
      "include_colab_link": true
    },
    "kernelspec": {
      "display_name": "Python 3",
      "name": "python3"
    },
    "language_info": {
      "name": "python"
    }
  },
  "nbformat": 4,
  "nbformat_minor": 0
}